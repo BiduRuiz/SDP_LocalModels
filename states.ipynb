{
 "cells": [
  {
   "cell_type": "markdown",
   "metadata": {},
   "source": [
    "# Creating the entangled states\n",
    "Create states and them check the PPT criterion to use the ones that are entangled.\n",
    "## Creating the states\n",
    " - Using the Bures measure\n",
    " First, we need to generate the random matrix from the Ginibre ensemble\n",
    "## PPT Criterion\n",
    "First, given the density matrix\n",
    "$$\\rho$$\n",
    "We calculate the partial transpose\n",
    "$$\\rho^{T_A}$$\n"
   ]
  },
  {
   "cell_type": "code",
   "execution_count": 16,
   "metadata": {},
   "outputs": [],
   "source": [
    "import numpy as np\n",
    "from random import random\n",
    "from scipy.stats import unitary_group"
   ]
  },
  {
   "cell_type": "code",
   "execution_count": 30,
   "metadata": {},
   "outputs": [
    {
     "name": "stdout",
     "output_type": "stream",
     "text": [
      "[[0.69775631+0.82501405j 0.09638828+0.80660258j]\n",
      " [0.25022567+0.58169083j 0.58175155+0.21575478j]]\n",
      "[[0.69775631-0.82501405j 0.25022567-0.58169083j]\n",
      " [0.09638828-0.80660258j 0.58175155-0.21575478j]]\n",
      "(1.2795078525008434+1.0407688300140916j)\n"
     ]
    }
   ],
   "source": [
    "# Generation of the random matrix from the Ginibre ensemble\n",
    "'''A complex matrix with elements having real and complex part distributed with the normal distribution'''\n",
    "def G_matrix(m,n):\n",
    "    # Matrix G of size m x n\n",
    "    G = np.zeros((m,n),dtype=np.complex_)\n",
    "    for k in range(0,m):\n",
    "        for l in range(0,n):\n",
    "            G[k,l] = random()+random()*1j\n",
    "    return G\n",
    "G = G_matrix(2,2)\n",
    "print(G)\n",
    "print(G.conjugate().T)\n",
    "print(G.trace())"
   ]
  },
  {
   "cell_type": "code",
   "execution_count": 33,
   "metadata": {},
   "outputs": [
    {
     "name": "stdout",
     "output_type": "stream",
     "text": [
      "[[0.35851459+1.38907607e-17j 0.01555298+2.09306572e-02j\n",
      "  0.09203871+9.45221822e-02j 0.0479618 -3.47466192e-02j]\n",
      " [0.01555298-2.09306572e-02j 0.22529   -3.73595251e-17j\n",
      "  0.04164728+1.55646193e-02j 0.09478773-1.18670043e-02j]\n",
      " [0.09203871-9.45221822e-02j 0.04164728-1.55646193e-02j\n",
      "  0.18686387+6.78066705e-18j 0.0802344 -1.85007816e-02j]\n",
      " [0.0479618 +3.47466192e-02j 0.09478773+1.18670043e-02j\n",
      "  0.0802344 +1.85007816e-02j 0.22933154+1.66880974e-17j]]\n"
     ]
    }
   ],
   "source": [
    "# Generation a random mixed density matrix (Bures metric)\n",
    "def rho_mixed(n):\n",
    "    U = unitary_group.rvs(n)\n",
    "    G = G_matrix(n,n)\n",
    "    rho = (1+U)*G*(G.conjugate().T)*(1+U.conjugate().T)\n",
    "    rho = rho/(rho.trace())\n",
    "    return rho\n",
    "rho = rho_mixed(4)"
   ]
  }
 ],
 "metadata": {
  "kernelspec": {
   "display_name": "Python 3.10.6 64-bit",
   "language": "python",
   "name": "python3"
  },
  "language_info": {
   "codemirror_mode": {
    "name": "ipython",
    "version": 3
   },
   "file_extension": ".py",
   "mimetype": "text/x-python",
   "name": "python",
   "nbconvert_exporter": "python",
   "pygments_lexer": "ipython3",
   "version": "3.10.6"
  },
  "orig_nbformat": 4,
  "vscode": {
   "interpreter": {
    "hash": "916dbcbb3f70747c44a77c7bcd40155683ae19c65e1c03b4aa3499c5328201f1"
   }
  }
 },
 "nbformat": 4,
 "nbformat_minor": 2
}
