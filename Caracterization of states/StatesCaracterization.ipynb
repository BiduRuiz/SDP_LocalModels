{
 "cells": [
  {
   "attachments": {},
   "cell_type": "markdown",
   "metadata": {},
   "source": [
    "# Caracterization of 2-qubit states\n",
    "\n",
    "We are hoping to caracterize the families of states of the format\n",
    "$$\\rho_{AB}^{\\eta} = \\eta\\rho_{AB}+(1-\\eta)\\mathbb{I}.$$\n",
    "\n",
    "I will be creating the target state ($\\rho_{AB}$) either by the Bures metric or the Hilbert-Schmidt metric (this part is already finalized).\n",
    "\n",
    "The tests we are planning on doing is:\n",
    "- Entanglement\n",
    "    - PPT test (finding the $\\eta_{\\text{ent}}$, for which the family begins to be entangled)\n",
    "        - This part is already finalized.\n",
    "- Bell's non-locality \n",
    "    - Lower bound: SDP\n",
    "    - Upper bound: Bell's inequalities\n",
    "- Steering \n",
    "    - Upper bound: Sew Saw\n",
    "    - Lower bound: SDP\n",
    "        - This part is already finalized.\n",
    "\n",
    "![Caracterization of the states](caracterization.png)"
   ]
  },
  {
   "cell_type": "code",
   "execution_count": 25,
   "metadata": {},
   "outputs": [],
   "source": [
    "# Importing the necessary libraries\n",
    "\n",
    "import numpy as np\n",
    "from numpy import linalg as LA\n",
    "from random import random\n",
    "from scipy.stats import unitary_group\n",
    "import picos as pic"
   ]
  },
  {
   "cell_type": "code",
   "execution_count": 3,
   "metadata": {},
   "outputs": [],
   "source": [
    "# Functions to create the target state\n",
    "\n",
    "# Generation of the random matrix from the Ginibre ensemble\n",
    "def G_matrix(m,n):\n",
    "    # Matrix G of size m x n\n",
    "    G = np.zeros((m,n),dtype=np.complex_)\n",
    "    for k in range(m):\n",
    "        for l in range(n):\n",
    "            G[k,l] = random()+random()*1j\n",
    "    return G\n",
    "\n",
    "# Generation a random mixed density matrix (Bures metric)\n",
    "def rho_mixed(n):\n",
    "    # n = dimension of the state    \n",
    "    # Create random unitary matrix\n",
    "    U = unitary_group.rvs(n)\n",
    "    # Create random Ginibre matrix\n",
    "    G = G_matrix(n,n)\n",
    "    # Create identity matrix\n",
    "    I = np.eye(4)\n",
    "    # Construct density matrix\n",
    "    rho = (I+U)*G*(G.conjugate().T)*(I+U.conjugate().T)\n",
    "    # Normalize density matrix\n",
    "    rho = rho/(rho.trace())\n",
    "    return rho\n",
    "\n",
    "# Generation a random mixed density matrix (Hilbert-Schmidt metric)\n",
    "def rho_mixed_HS(n):\n",
    "    # n = dimension of the state  \n",
    "    # Create random Ginibre matrix\n",
    "    G = G_matrix(n,n)\n",
    "    # Construct density matrix\n",
    "    rho = G*(G.conjugate().T)\n",
    "    # Normalize density matrix\n",
    "    rho = rho/(rho.trace())\n",
    "    return rho"
   ]
  },
  {
   "cell_type": "code",
   "execution_count": 4,
   "metadata": {},
   "outputs": [],
   "source": [
    "# Generating the target state (Werner state)\n",
    "\n",
    "#Create the base kets |00>, |01>, |10> and |11>\n",
    "ket_00 = np.array([[1],[0],[0],[0]])\n",
    "ket_01 = np.array([[0],[1],[0],[0]])\n",
    "ket_10 = np.array([[0],[0],[1],[0]])\n",
    "ket_11 = np.array([[0],[0],[0],[1]])\n",
    "#Create |psi> = (|01>-|10>)/sqrt(2) and rho = |psi><psi|\n",
    "psi = (ket_01-ket_10)/np.sqrt(2)\n",
    "rho_AB = psi@np.transpose(psi)\n",
    "\n",
    "# Generating the separable state\n",
    "\n",
    "rho_I = np.eye(4)/4"
   ]
  },
  {
   "attachments": {},
   "cell_type": "markdown",
   "metadata": {},
   "source": [
    "## Entanglement\n",
    "\n",
    "The function `Ent_cert(rho)` will say if the state is entangled or not, by calculating the partial transpose of the state and checking if it is positive.\n",
    "\n",
    "Here we find the $\\eta_{\\text{ent}}$ in a precision of \n"
   ]
  },
  {
   "cell_type": "code",
   "execution_count": 5,
   "metadata": {},
   "outputs": [],
   "source": [
    "# Defining the function that certifies entanglement\n",
    "\n",
    "def Ent_cert(rho):\n",
    "    # Calculate partial transpose\n",
    "    n = rho.shape\n",
    "    rho_TA = np.zeros((n[0],n[1]),dtype=np.complex_)\n",
    "    a = int(n[0]/2)\n",
    "    b = int(n[1]/2)\n",
    "    rho_TA[:a,:b] = rho[:a,:b]\n",
    "    rho_TA[a:,b:] = rho[a:,b:]\n",
    "    rho_TA[a:,:b] = rho[a:,:b].T\n",
    "    rho_TA[:a,b:] = rho[:a,b:].T\n",
    "    # v - eigenvectors, w - eigenvalues\n",
    "    w, v = LA.eig(rho_TA)\n",
    "    # PPT Criterion: Are all eigenvalues >=0?\n",
    "    if all(i >= 0 for i in w):\n",
    "        # print('Yes: separable state.')\n",
    "        ppt = 0\n",
    "    else:\n",
    "        # print('No: entangled state.')\n",
    "        ppt = 1\n",
    "    return w,v,ppt"
   ]
  },
  {
   "cell_type": "code",
   "execution_count": 6,
   "metadata": {},
   "outputs": [
    {
     "name": "stdout",
     "output_type": "stream",
     "text": [
      "0.33333333333333304\n"
     ]
    }
   ],
   "source": [
    "# Calculating the limit of entanglement\n",
    "\n",
    "r = 0.5\n",
    "eps = 0.5\n",
    "ppa = 0\n",
    "\n",
    "i = 0\n",
    "\n",
    "while eps >= 10**(-15) and r>=0 and r<=1 and i<=10**5:\n",
    "    rho_ent = r*rho_AB+(1-r)*rho_I\n",
    "    w,v, ppt = Ent_cert(rho_ent)\n",
    "\n",
    "    eps = eps/2\n",
    "\n",
    "    if ppt == 0:\n",
    "        r = r + eps\n",
    "    else:\n",
    "        r = r - eps\n",
    "\n",
    "    i += 1\n",
    "\n",
    "eta_ent = r\n",
    "\n",
    "print(eta_ent)"
   ]
  },
  {
   "attachments": {},
   "cell_type": "markdown",
   "metadata": {},
   "source": [
    "## Bell's non-locality \n",
    "\n",
    "Bell scenarios are determined by the following finite values:\n",
    "- the number of parts;\n",
    "- the number of possible measurements of each part;\n",
    "- the number of possible outcomes of each possible measurement of each\n",
    "part.\n",
    "\n",
    "### Lower bound: SDP or Outer polytope approximation\n",
    "\n",
    "### Upper bound: Bell's inequalities - SewSaw\n",
    "\n",
    "CHSH\n",
    "$$\\langle A_0 B_0\\rangle+\\langle A_1 B_0\\rangle+\\langle A_0 B_1\\rangle−\\langle A_1 B_1\\rangle\\leq 2$$\n",
    "\n",
    "I3322\n",
    "$$−\\langle A_0\\rangle−\\langle A_1\\rangle−\\langle B_0\\rangle−\\langle B_1\\rangle−\\langle A_0 B_0\\rangle−\\langle A_1 B_0\\rangle−\\langle A_2 B_0\\rangle−\\langle A_0 B_1\\rangle−\\langle A_1 B_1\\rangle−\\langle A_2 B_1\\rangle−\\langle A_0 B_2\\rangle+\\langle A_1 B_2\\rangle\\leq 4$$"
   ]
  },
  {
   "attachments": {},
   "cell_type": "markdown",
   "metadata": {},
   "source": [
    "## Desigualdades de Bell\n",
    "Seja $\\vec{p}\\in\\mathcal{P}_Q$, de forma que \n",
    "$$p(ab|xy) = \\text{tr}[(E_{a|x}\\otimes F_{b|y})\\rho],$$\n",
    "onde $\\rho$ é o estado do sistema, e $\\{ E_{a|x}\\}$ e $\\{ F_{b|y}\\}$ são os POVMs de Alice e Bob, respectivamente.\n",
    "\n",
    "Neste contexto, uma desigualdade de Bell pode ser escrita como\n",
    "$$D(\\vec{p}) = c^T\\vec{p}=\\text{tr}[G\\rho]\\leq d_L$$\n",
    "onde\n",
    "$$G = \\sum_{a,b,x,y}c(a,b,x,y)(E_{a|x}\\otimes F_{b|y})$$\n",
    "é um observável associado à desigualdade."
   ]
  },
  {
   "attachments": {},
   "cell_type": "markdown",
   "metadata": {},
   "source": [
    "## Algoritmo See-Saw\n",
    "O seguinte algoritmo iterativo converge para uma cota inferior da máxima violação quântica de uma desigualdade de Bell:\n",
    "1. Dadas dimensões locais $d_A$ e $d_B$, sorteie POVMs $\\{ E_{a|x}\\}$ atuando em $\\mathbb{C}^{d_A}$ e $\\{ F_{b|y}\\}$ atuando em $\\mathbb{C}^{d_B}$;\n",
    "2. Construa o observável $G$ associado à desigualdade, obtenha o autovetor $|\\psi\\rangle$ associado ao maior autovalor, e faça $\\rho = |\\psi\\rangle\\langle\\psi|$;\n",
    "3. Maximize $D(\\rho, \\{ E_{a|x}\\}, \\{ F_{b|y}\\})$ sobre $\\{ E_{a|x}\\}$, mantendo $\\rho$ e $\\{ F_{b|y}\\}$ fixos;\n",
    "4. Maximize $D(\\rho, \\{ E_{a|x}\\}, \\{ F_{b|y}\\})$ sobre $\\{ F_{b|y}\\}$, mantendo $\\rho$ e $\\{ E_{a|x}\\}$ fixos;\n",
    "5. Volte ao passo 2. e repita até convergência.\n",
    "O algoritmo see-saw converge para um máximo local de $D(\\rho, \\{ E_{a|x}\\}, \\{ F_{b|y}\\})$; é recomendável, portanto, tomar vários pontos iniciais distintos."
   ]
  },
  {
   "attachments": {},
   "cell_type": "markdown",
   "metadata": {},
   "source": [
    "## Fixando o cenário\n",
    "Iremos incrementar a dimensão ao longo do projeto, entretanto teremos $d_A = d_B = d$. As medições precisam respeitar as propriedades de POVM\n",
    "$$M_{a|x}\\geq0,\\quad\\sum_a M_{a|x}=\\mathbb{I} \\text{ e}\\quad M_{a|x}^\\dagger = M_{a|x}.$$\n",
    "Sabemos que uma matrix mais a sua matrix hermitiana é uma matrix hermitiana. Assim, pra garantir a última propriedade, podemos criar uma matrix aleatória complexa $A$ e calcular a nossa medição $M_{a|x} = A + A.\\texttt{conj}().\\texttt{T}$.\n",
    "\n",
    "Para garantir a segunda propriedade, podemos fixar o nosso cenário para medições dicotômicas, assim, encontrado $M_{a|x}$, fazemos $M_{a'|x} = \\mathbb{I} - M_{a|x}$.\n",
    "\n",
    "Para garantir a primeira propriedade, devemos calcular o traço da matriz e ele deve ser não-negativo $\\text{tr}[M_{a|x}]\\geq0$."
   ]
  },
  {
   "cell_type": "code",
   "execution_count": 24,
   "metadata": {},
   "outputs": [
    {
     "name": "stdout",
     "output_type": "stream",
     "text": [
      "[[1.35198485+0.j         1.21258306-0.68277862j]\n",
      " [1.21258306+0.68277862j 0.0093399 +0.j        ]]\n",
      "[[-0.35198485+0.j         -1.21258306+0.68277862j]\n",
      " [-1.21258306-0.68277862j  0.9906601 +0.j        ]]\n"
     ]
    }
   ],
   "source": [
    "# Criando as medições\n",
    "def measurement(dimension):\n",
    "    valid = False\n",
    "    while valid == False:\n",
    "        A = np.random.rand(dimension,dimension) + (1j)*(np.random.rand(dimension,dimension))\n",
    "        M_a = A + A.conj().T\n",
    "        M_b = np.eye(dimension) - M_a\n",
    "        trace_a = np.real(np.trace(M_a))\n",
    "        trace_b = np.real(np.trace(M_b))\n",
    "        if trace_a>=0 and trace_b>=0:\n",
    "            valid = True\n",
    "        else: \n",
    "            valid = False\n",
    "    return M_a, M_b\n",
    "M_a, M_b = measurement(2)\n",
    "print(M_a)\n",
    "print(M_b)"
   ]
  },
  {
   "attachments": {},
   "cell_type": "markdown",
   "metadata": {},
   "source": [
    "## Construindo a desigualdade de Bell\n",
    "Já fixamos a quantidade de resultados por medição, agora vamos fixar em duas a quantidade de medições por parte. Sendo assim, agora temos\n",
    "$$\\{ E_{a|x}\\} = [E_{\\pm|x_1}, E_{\\pm|x_2}]\\quad\\text{e}\\quad\\{ F_{b|y}\\}= [F_{\\pm|y_1}, F_{\\pm|y_2}].$$\n",
    "O observável $G$ associado à desigualdade CHSH é dado por \n",
    "$$G_{\\text{CHSH}} = E_{x_1}\\otimes F_{y_1}+E_{x_2}\\otimes F_{y_1}+E_{x_1}\\otimes F_{y_2}-E_{x_2}\\otimes F_{y_2}.$$\n",
    "Para obtermos o autovetor $|\\psi\\rangle$ associado ao maior autovalor, e recuperarmos $\\rho = |\\psi\\rangle\\langle\\psi|$, precisamos resolver o problema de otimização:\n",
    "$$\\begin{align*}\n",
    "\\text{given} \\quad & G \\quad (c,\\{E_{a|x}\\},\\{F_{b|y}\\})\\\\\n",
    "\\max \\quad &\\text{tr}[G\\rho] = \\sum_{a,b,x,y}c(a,b,x,y)\\text{tr}[(E_{a|x}\\otimes F_{b|y})\\rho]\\\\\n",
    "\\text{subject to}\\quad & \\text{tr}[\\rho] = 1 \\quad \\text{Normalização} \\\\\n",
    "\\quad & \\text{tr}[\\rho^2] = 1 \\quad \\text{Estado puro}\n",
    "\\end{align*}\n",
    "$$"
   ]
  },
  {
   "cell_type": "code",
   "execution_count": null,
   "metadata": {},
   "outputs": [],
   "source": [
    "# Otimização do estado\n",
    "def max_rho(dimension, c, measurements_A, measurements_B):\n",
    "\n",
    "    #Creating the problem\n",
    "    P = pic.Problem()\n",
    "\n",
    "    #Creating the optimization variables\n",
    "\n",
    "    rho = pic.HermitianVariable('rho',(dimension,dimension))\n",
    "\n",
    "    #Creating the constraints\n",
    "    P.add_constraint(pic.trace(rho)==1)\n",
    "    P.add_constraint(pic.trace(rho**2)==1)\n",
    "\n",
    "    trace = [pic.trace((measurements_A[i]@measurements_B[j])*rho) for i in range(k*m) for j in range(k*m)]\n",
    "\n",
    "    D = pic.sum([c[i]*trace[i] for i in range(k*m)])\n",
    "\n",
    "    #Setting the objective\n",
    "    P.set_objective('max',D)\n",
    "\n",
    "    #Finding the solution\n",
    "    P.solve()\n",
    "\n",
    "    return rho\n",
    "\n",
    "rho = max_rho(4,)"
   ]
  },
  {
   "cell_type": "code",
   "execution_count": 34,
   "metadata": {},
   "outputs": [
    {
     "name": "stdout",
     "output_type": "stream",
     "text": [
      "[0, 0, 0, 0, 0, 1, 2, 3, 0, 2, 4, 6, 0, 3, 6, 9]\n"
     ]
    }
   ],
   "source": [
    "k = 2\n",
    "m = 2\n",
    "print([i*j for i in range(k*m) for j in range(k*m)])"
   ]
  },
  {
   "attachments": {},
   "cell_type": "markdown",
   "metadata": {},
   "source": [
    "## Otimização sobre as medições de cada parte\n",
    "Queremos maximizar $D(\\rho, \\{ E_{a|x}\\}, \\{ F_{b|y}\\})$ sobre $\\{ E_{a|x}\\}$, mantendo $\\rho$ e $\\{ F_{b|y}\\}$ fixos. Para isso vamos realizar o seguinte protocolo de otimização\n",
    "$$\\begin{align*}\n",
    "\\text{given} \\quad & c,\\rho,\\{F_{b|y}\\}\\\\\n",
    "\\max \\quad & \\sum_{a,b,x,y}c(a,b,x,y)\\text{tr}[(E_{a|x}\\otimes F_{b|y})\\rho]\\\\\n",
    "\\text{subject to}\\quad & E_{a|x}\\geq0,\\quad\\forall a,x \\\\\n",
    "\\quad & \\sum_a E_{a|x} = \\mathbb{I}, \\quad \\forall x\n",
    "\\end{align*}\n",
    "$$"
   ]
  },
  {
   "cell_type": "code",
   "execution_count": null,
   "metadata": {},
   "outputs": [],
   "source": [
    "# Otimização das medições\n",
    "def max_Measurements_Alice(dimension,c,rho, measurements_B,k,m):\n",
    "\n",
    "    #Creating the problem\n",
    "    P = pic.Problem()\n",
    "\n",
    "    #Creating the optimization variables\n",
    "\n",
    "    M_A = [pic.HermitianVariable('Measurements_Alice[{}]'.format(i),(dimension,dimension)) for i in range(k*m)]\n",
    "\n",
    "    #Creating the constraints\n",
    "    P.add_list_of_constraints([M_A[i]>=0 for i in range(k**m)])\n",
    "\n",
    "    ident = [pic.sum([M_A[i+j] for i in range(k)]) for j in range(m)]\n",
    "\n",
    "    P.add_list_of_constraints([ident[j]==np.eye(dimension,dtype='complex') for j in range(m)]) \n",
    "\n",
    "    G = \n",
    "\n",
    "    D = pic.trace()\n",
    "\n",
    "    #Setting the objective\n",
    "    P.set_objective('max',D)\n",
    "\n",
    "    #Finding the solution\n",
    "    P.solve()\n",
    "\n",
    "    return M_A\n",
    "\n",
    "def max_Measurements_Bob(dimension,c,rho, measurements_A,k,m):\n",
    "\n",
    "    #Creating the problem\n",
    "    P = pic.Problem()\n",
    "\n",
    "    #Creating the optimization variables\n",
    "\n",
    "    rho = pic.HermitianVariable('rho',(dimension,dimension))\n",
    "\n",
    "    #Creating the constraints\n",
    "    P.add_constraint(pic.trace(rho)==1)\n",
    "    P.add_constraint(pic.trace(rho**2)==1)\n",
    "\n",
    "    G = \n",
    "\n",
    "    D = pic.trace()\n",
    "\n",
    "    #Setting the objective\n",
    "    P.set_objective('max',D)\n",
    "\n",
    "    #Finding the solution\n",
    "    P.solve()\n",
    "\n",
    "    return M_B"
   ]
  }
 ],
 "metadata": {
  "kernelspec": {
   "display_name": "Python 3",
   "language": "python",
   "name": "python3"
  },
  "language_info": {
   "codemirror_mode": {
    "name": "ipython",
    "version": 3
   },
   "file_extension": ".py",
   "mimetype": "text/x-python",
   "name": "python",
   "nbconvert_exporter": "python",
   "pygments_lexer": "ipython3",
   "version": "3.9.13"
  },
  "orig_nbformat": 4
 },
 "nbformat": 4,
 "nbformat_minor": 2
}
