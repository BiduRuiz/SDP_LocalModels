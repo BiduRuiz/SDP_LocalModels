{
 "cells": [
  {
   "attachments": {},
   "cell_type": "markdown",
   "metadata": {},
   "source": [
    "# Caracterization of 2-qubit states\n",
    "\n",
    "We are hoping to caracterize the families of states of the format\n",
    "$$\\rho_{AB}^{\\eta} = \\eta\\rho_{AB}+(1-\\eta)\\mathbb{I}.$$\n",
    "\n",
    "I will be creating the target state ($\\rho_{AB}$) either by the Bures metric or the Hilbert-Schmidt metric (this part is already finalized).\n",
    "\n",
    "The tests we are planning on doing is:\n",
    "- Entanglement\n",
    "    - PPT test (finding the $\\eta_{\\text{ent}}$, for which the family begins to be entangled)\n",
    "        - This part is already finalized.\n",
    "- Bell's non-locality \n",
    "    - Lower bound: SDP\n",
    "    - Upper bound: Bell's inequalities\n",
    "- Steering \n",
    "    - Upper bound: Sew Saw\n",
    "    - Lower bound: SDP\n",
    "        - This part is already finalized.\n",
    "\n",
    "![Caracterization of the states](caracterization.png)"
   ]
  },
  {
   "cell_type": "code",
   "execution_count": 37,
   "metadata": {},
   "outputs": [],
   "source": [
    "# Importing the necessary libraries\n",
    "\n",
    "import numpy as np\n",
    "from numpy import linalg as LA\n",
    "from random import random\n",
    "from scipy.stats import unitary_group"
   ]
  },
  {
   "cell_type": "code",
   "execution_count": 38,
   "metadata": {},
   "outputs": [],
   "source": [
    "# Functions to create the target state\n",
    "\n",
    "# Generation of the random matrix from the Ginibre ensemble\n",
    "def G_matrix(m,n):\n",
    "    # Matrix G of size m x n\n",
    "    G = np.zeros((m,n),dtype=np.complex_)\n",
    "    for k in range(m):\n",
    "        for l in range(n):\n",
    "            G[k,l] = random()+random()*1j\n",
    "    return G\n",
    "\n",
    "# Generation a random mixed density matrix (Bures metric)\n",
    "def rho_mixed(n):\n",
    "    # n = dimension of the state    \n",
    "    # Create random unitary matrix\n",
    "    U = unitary_group.rvs(n)\n",
    "    # Create random Ginibre matrix\n",
    "    G = G_matrix(n,n)\n",
    "    # Create identity matrix\n",
    "    I = np.eye(4)\n",
    "    # Construct density matrix\n",
    "    rho = (I+U)*G*(G.conjugate().T)*(I+U.conjugate().T)\n",
    "    # Normalize density matrix\n",
    "    rho = rho/(rho.trace())\n",
    "    return rho\n",
    "\n",
    "# Generation a random mixed density matrix (Hilbert-Schmidt metric)\n",
    "def rho_mixed_HS(n):\n",
    "    # n = dimension of the state  \n",
    "    # Create random Ginibre matrix\n",
    "    G = G_matrix(n,n)\n",
    "    # Construct density matrix\n",
    "    rho = G*(G.conjugate().T)\n",
    "    # Normalize density matrix\n",
    "    rho = rho/(rho.trace())\n",
    "    return rho"
   ]
  },
  {
   "cell_type": "code",
   "execution_count": 39,
   "metadata": {},
   "outputs": [],
   "source": [
    "# Generating the target state (Werner state)\n",
    "\n",
    "#Create the base kets |00>, |01>, |10> and |11>\n",
    "ket_00 = np.array([[1],[0],[0],[0]])\n",
    "ket_01 = np.array([[0],[1],[0],[0]])\n",
    "ket_10 = np.array([[0],[0],[1],[0]])\n",
    "ket_11 = np.array([[0],[0],[0],[1]])\n",
    "#Create |psi> = (|01>-|10>)/sqrt(2) and rho = |psi><psi|\n",
    "psi = (ket_01-ket_10)/np.sqrt(2)\n",
    "rho_AB = psi@np.transpose(psi)\n",
    "\n",
    "# Generating the separable state\n",
    "\n",
    "rho_I = np.eye(4)/4"
   ]
  },
  {
   "attachments": {},
   "cell_type": "markdown",
   "metadata": {},
   "source": [
    "## Entanglement\n",
    "\n",
    "The function `Ent_cert(rho)` will say if the state is entangled or not, by calculating the partial transpose of the state and checking if it is positive.\n",
    "\n",
    "Here we find the $\\eta_{\\text{ent}}$ in a precision of \n"
   ]
  },
  {
   "cell_type": "code",
   "execution_count": 40,
   "metadata": {},
   "outputs": [],
   "source": [
    "# Defining the function that certifies entanglement\n",
    "\n",
    "def Ent_cert(rho):\n",
    "    # Calculate partial transpose\n",
    "    n = rho.shape\n",
    "    rho_TA = np.zeros((n[0],n[1]),dtype=np.complex_)\n",
    "    a = int(n[0]/2)\n",
    "    b = int(n[1]/2)\n",
    "    rho_TA[:a,:b] = rho[:a,:b]\n",
    "    rho_TA[a:,b:] = rho[a:,b:]\n",
    "    rho_TA[a:,:b] = rho[a:,:b].T\n",
    "    rho_TA[:a,b:] = rho[:a,b:].T\n",
    "    # v - eigenvectors, w - eigenvalues\n",
    "    w, v = LA.eig(rho_TA)\n",
    "    # PPT Criterion: Are all eigenvalues >=0?\n",
    "    if all(i >= 0 for i in w):\n",
    "        # print('Yes: separable state.')\n",
    "        ppt = 0\n",
    "    else:\n",
    "        # print('No: entangled state.')\n",
    "        ppt = 1\n",
    "    return w,v,ppt"
   ]
  },
  {
   "cell_type": "code",
   "execution_count": 41,
   "metadata": {},
   "outputs": [
    {
     "name": "stdout",
     "output_type": "stream",
     "text": [
      "0.33333333333333304\n"
     ]
    }
   ],
   "source": [
    "# Calculating the limit of entanglement\n",
    "\n",
    "r = 0.5\n",
    "eps = 0.5\n",
    "ppa = 0\n",
    "\n",
    "i = 0\n",
    "\n",
    "while eps >= 10**(-15) and r>=0 and r<=1 and i<=10**5:\n",
    "    rho_ent = r*rho_AB+(1-r)*rho_I\n",
    "    w,v, ppt = Ent_cert(rho_ent)\n",
    "\n",
    "    eps = eps/2\n",
    "\n",
    "    if ppt == 0:\n",
    "        r = r + eps\n",
    "    else:\n",
    "        r = r - eps\n",
    "\n",
    "    i += 1\n",
    "\n",
    "eta_ent = r\n",
    "\n",
    "print(eta_ent)"
   ]
  },
  {
   "attachments": {},
   "cell_type": "markdown",
   "metadata": {},
   "source": [
    "## Lower bound for Bell non-locality\n"
   ]
  }
 ],
 "metadata": {
  "kernelspec": {
   "display_name": "Python 3",
   "language": "python",
   "name": "python3"
  },
  "language_info": {
   "codemirror_mode": {
    "name": "ipython",
    "version": 3
   },
   "file_extension": ".py",
   "mimetype": "text/x-python",
   "name": "python",
   "nbconvert_exporter": "python",
   "pygments_lexer": "ipython3",
   "version": "3.9.13"
  },
  "orig_nbformat": 4
 },
 "nbformat": 4,
 "nbformat_minor": 2
}
