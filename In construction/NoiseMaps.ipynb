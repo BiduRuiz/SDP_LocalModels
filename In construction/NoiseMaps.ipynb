{
 "cells": [
  {
   "cell_type": "markdown",
   "metadata": {},
   "source": [
    "# Documentation for general noise maps creation\n",
    "\n",
    "**Disclaimer:** This is not working yet."
   ]
  },
  {
   "cell_type": "markdown",
   "metadata": {},
   "source": [
    "To create our polytope we can use what we are already using. The insphere that is going to change. "
   ]
  },
  {
   "cell_type": "markdown",
   "metadata": {},
   "source": [
    "### Importing the necessary libraries"
   ]
  },
  {
   "cell_type": "code",
   "execution_count": 62,
   "metadata": {},
   "outputs": [],
   "source": [
    "#Construction:\n",
    "import picos as pic\n",
    "import numpy as np\n",
    "import math\n",
    "from scipy.spatial import ConvexHull"
   ]
  },
  {
   "cell_type": "markdown",
   "metadata": {},
   "source": [
    "### Creating the noiseless polytope\n",
    "\n",
    "Here we will give the vertices of our polyhedron and ask for the ConvexHull function to find the COnvex Hull associated to this."
   ]
  },
  {
   "cell_type": "code",
   "execution_count": 78,
   "metadata": {},
   "outputs": [
    {
     "name": "stdout",
     "output_type": "stream",
     "text": [
      "[[ 1.00000000e+00  4.27138325e-11 -5.44437828e-11  5.76947379e-11\n",
      "  -5.00000000e-01]\n",
      " [-1.00000000e+00 -5.28765920e-12  9.18699561e-11 -2.02685646e-11\n",
      "   5.00000000e-01]\n",
      " [ 1.00000000e+00 -3.21385141e-11 -5.44437828e-11  5.76947379e-11\n",
      "  -5.00000000e-01]\n",
      " [-1.00000000e+00 -5.28765920e-12  1.70176095e-11 -2.02685646e-11\n",
      "   5.00000000e-01]\n",
      " [ 1.00000000e+00  4.27138325e-11 -5.44437828e-11  2.44528842e-11\n",
      "  -5.00000000e-01]\n",
      " [-1.00000000e+00 -5.28765920e-12  9.18699561e-11 -6.18790574e-11\n",
      "   5.00000000e-01]\n",
      " [ 1.00000000e+00 -3.21385141e-11 -5.44437828e-11  2.44528842e-11\n",
      "  -5.00000000e-01]\n",
      " [-1.00000000e+00 -5.28765920e-12  1.70176095e-11 -6.18790574e-11\n",
      "   5.00000000e-01]]\n",
      "[[-0.57735027 -0.57735027 -0.57735027 -0.28867513]\n",
      " [ 0.57735027 -0.57735027 -0.57735027 -0.28867513]\n",
      " [-0.57735027 -0.57735027  0.57735027 -0.28867513]\n",
      " [ 0.57735027 -0.57735027  0.57735027 -0.28867513]\n",
      " [ 0.57735027  0.57735027 -0.57735027 -0.28867513]\n",
      " [-0.57735027  0.57735027 -0.57735027 -0.28867513]\n",
      " [ 0.57735027  0.57735027  0.57735027 -0.28867513]\n",
      " [-0.57735027  0.57735027  0.57735027 -0.28867513]]\n"
     ]
    }
   ],
   "source": [
    "# Creating the smallest test polyhedron: Octahedron\n",
    "vert = np.array([[1,1,0,0],[1,-1,0,0],[1,0,1,0],[1,0,-1,0],[1,0,0,1],[1,0,0,-1]])\n",
    "\n",
    "#print(vert)\n",
    "# Construct the polyhedron\n",
    "hull = ConvexHull(vert, qhull_options = \"QJ Pp\")\n",
    "facets = hull.equations\n",
    "\n",
    "print(facets)\n",
    "\n",
    "# Without forth dimension\n",
    "\n",
    "vert_3D = np.array([[1,0,0],[-1,0,0],[0,1,0],[0,-1,0],[0,0,1],[0,0,-1]])\n",
    "\n",
    "# Construct the polyhedron\n",
    "hull_3D = ConvexHull(vert_3D)\n",
    "facets_3D = hull_3D.equations\n",
    "\n",
    "print(facets_3D)"
   ]
  },
  {
   "cell_type": "markdown",
   "metadata": {},
   "source": [
    "### Creating the noise map\n",
    "Given the noise map\n",
    "$$\\Phi^\\eta (A_a) = \\eta A_a+(1-\\eta)\\text{Tr}(\\xi A_a)\\mathbb{1}\\equiv A_a^\\eta$$\n",
    "it is necessary to choose the density matrix $\\xi$, which defines the map. In [Hirsch2016](https://arxiv.org/abs/1512.00262) they have observed that the best choice of $\\xi$ depends on the input state and conjecture that the optimal choice of $\\xi$ is setting $\\xi = \\text{tr}_B(\\rho_{\\text{sep}})$. When considering a general noise map $\\Phi^\\eta$, $\\xi$ will be an arbitrary qubit state $\\xi = (\\mathbb{1}+\\vec{u}\\cdot\\vec{\\sigma})/2$ ."
   ]
  },
  {
   "cell_type": "code",
   "execution_count": 64,
   "metadata": {},
   "outputs": [
    {
     "name": "stdout",
     "output_type": "stream",
     "text": [
      "[[0.5 0. ]\n",
      " [0.  0.5]]\n"
     ]
    }
   ],
   "source": [
    "u = np.array([0,0,0])\n",
    "\n",
    "# Horodecki = (0,0,1)\n",
    "\n",
    "xi = np.array([[1+u[2],u[0]-u[1]],[u[0]+u[1],1-u[2]]])/2\n",
    "\n",
    "print(xi)"
   ]
  },
  {
   "cell_type": "markdown",
   "metadata": {},
   "source": [
    "### Finding the shrinking factor\n",
    "\n",
    "We want \n",
    "$$\\eta^{*}\\left(\\left\\lbrace A_{a|x}\\right\\rbrace,\\xi_{A}\\right) = \\underset{j}{\\text{min}} ~\\eta^{*}_{j}\\left(\\vec{F}_{j},b_{j},\\xi_{A}\\right), \\qquad j = 1,\\ldots,N_{F}.$$\n",
    "\n",
    "We will obtain a quadratic expression for $\\eta(\\vec{F},b,\\xi_{A})$, namely,\n",
    "$$A\\eta^{2} + B\\eta + C = 0,$$\n",
    "with\n",
    "$$A = \\sum_{k=1}^{3}\\left(F_{k} {-} F_{0} u_{k}\\right)^{2}$$\n",
    "$$B = 4F_{0}\\sum_{k=1}^{3}u_{k}\\left(F_{k} {-} F_{0}u_{k}\\right)$$\n",
    "$$C = 4b\\left(F_{0} {-} b\\right),$$\n",
    "$\\eta^{*}$ being the largest of the two solutions to this equation and $N_F$ being the number of facets."
   ]
  },
  {
   "cell_type": "code",
   "execution_count": 75,
   "metadata": {},
   "outputs": [
    {
     "name": "stdout",
     "output_type": "stream",
     "text": [
      "0.5773502691896258\n",
      "25506110856.210247\n"
     ]
    }
   ],
   "source": [
    "# Here we will calculate A, B and C\n",
    "\n",
    "# We hope to find this radius for de despolarizing map\n",
    "r = np.min(np.abs(facets_3D[:, -1]))\n",
    "print(r)\n",
    "\n",
    "eta = np.zeros(facets.shape[0])\n",
    "\n",
    "#print(facets)\n",
    "\n",
    "for j in range(facets.shape[0]):\n",
    "\n",
    "    F_0 = facets[j,0]\n",
    "    F_1 = facets[j,1]\n",
    "    F_2 = facets[j,2]\n",
    "    F_3 = facets[j,3]\n",
    "    b = facets[j,4]\n",
    "\n",
    "    A = (F_1-F_0*u[0])**2+(F_2-F_0*u[1])**2+(F_3-F_0*u[2])**2\n",
    "    B = 4*F_0*(u[0]*(F_1-F_0*u[0])+u[1]*(F_2-F_0*u[1])+u[2]*(F_3-F_0*u[2]))\n",
    "    C = 4*b*(F_0-b)\n",
    "\n",
    "    etas = np.array([(-B+np.sqrt(B**2-4*A*C))/(2*A),(-B-np.sqrt(B**2-4*A*C))/(2*A)])\n",
    "    eta[j] = max(etas)\n",
    "\n",
    "print(min(eta))"
   ]
  }
 ],
 "metadata": {
  "kernelspec": {
   "display_name": "Python 3.10.4 64-bit",
   "language": "python",
   "name": "python3"
  },
  "language_info": {
   "codemirror_mode": {
    "name": "ipython",
    "version": 3
   },
   "file_extension": ".py",
   "mimetype": "text/x-python",
   "name": "python",
   "nbconvert_exporter": "python",
   "pygments_lexer": "ipython3",
   "version": "3.10.6"
  },
  "orig_nbformat": 4,
  "vscode": {
   "interpreter": {
    "hash": "916dbcbb3f70747c44a77c7bcd40155683ae19c65e1c03b4aa3499c5328201f1"
   }
  }
 },
 "nbformat": 4,
 "nbformat_minor": 2
}
