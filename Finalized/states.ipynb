{
 "cells": [
  {
   "cell_type": "markdown",
   "metadata": {},
   "source": [
    "# Creating the entangled states\n",
    "Create states using Bures measure ([arXiv:1102.4598](https://arxiv.org/abs/1102.4598)) and them check the PPT criterion to use the ones that are entangled.\n"
   ]
  },
  {
   "cell_type": "code",
   "execution_count": 8,
   "metadata": {},
   "outputs": [],
   "source": [
    "import numpy as np\n",
    "from numpy import linalg as LA\n",
    "from random import random\n",
    "from scipy.stats import unitary_group\n",
    "import time"
   ]
  },
  {
   "cell_type": "code",
   "execution_count": 9,
   "metadata": {},
   "outputs": [],
   "source": [
    "# Generation of the random matrix from the Ginibre ensemble\n",
    "'''A complex matrix with elements having real and complex part distributed with the normal distribution'''\n",
    "def G_matrix(n,m):\n",
    "    # Matrix G of size n x m\n",
    "    G = (np.random.randn(n, m) + 1j * np.random.randn(n, m)) / np.sqrt(2)\n",
    "    return G"
   ]
  },
  {
   "cell_type": "code",
   "execution_count": 10,
   "metadata": {},
   "outputs": [],
   "source": [
    "# Generation a random mixed density matrix (Bures metric)\n",
    "def rho_mixed(n):\n",
    "    # Create random unitary matrix\n",
    "    U = unitary_group.rvs(n)\n",
    "    # Create random Ginibre matrix\n",
    "    G = G_matrix(n,n)\n",
    "    # Create identity matrix\n",
    "    I = np.eye(4)\n",
    "    # Construct density matrix\n",
    "    rho = (I+U)@G@(G.conjugate().T)@(I+U.conjugate().T)\n",
    "    # Normalize density matrix\n",
    "    rho = rho/(rho.trace())\n",
    "    return rho"
   ]
  },
  {
   "cell_type": "code",
   "execution_count": 11,
   "metadata": {},
   "outputs": [],
   "source": [
    "# Generation a random mixed density matrix (Hilbert-Schmidt metric)\n",
    "def rho_mixed_HS(n):\n",
    "    # Create random Ginibre matrix\n",
    "    G = G_matrix(n,n)\n",
    "    # Construct density matrix\n",
    "    rho = G@(G.conjugate().T)\n",
    "    # Normalize density matrix\n",
    "    rho = rho/(rho.trace())\n",
    "    return rho"
   ]
  },
  {
   "cell_type": "code",
   "execution_count": 12,
   "metadata": {},
   "outputs": [],
   "source": [
    "# Entanglement certification using PPT criterion\n",
    "def Ent_cert(rho):\n",
    "    # Calculate partial transpose\n",
    "    n = rho.shape\n",
    "    rho_TA = np.zeros((n[0],n[1]),dtype=np.complex_)\n",
    "    a = int(n[0]/2)\n",
    "    b = int(n[1]/2)\n",
    "    rho_TA[:a,:b] = rho[:a,:b]\n",
    "    rho_TA[a:,b:] = rho[a:,b:]\n",
    "    rho_TA[a:,:b] = rho[a:,:b].T\n",
    "    rho_TA[:a,b:] = rho[:a,b:].T\n",
    "    # v - eigenvectors, w - eigenvalues\n",
    "    w, v = LA.eig(rho_TA)\n",
    "    # PPT Criterion: Are all eigenvalues >=0?\n",
    "    if all(i >= 0 for i in w):\n",
    "        # print('Yes: separable state.')\n",
    "        ppt = 0\n",
    "    else:\n",
    "        # print('No: entangled state.')\n",
    "        ppt = 1\n",
    "    return w,v,ppt"
   ]
  },
  {
   "cell_type": "code",
   "execution_count": 13,
   "metadata": {},
   "outputs": [],
   "source": [
    "# # Certification of Werner State\n",
    "# # x>1/3: entangled state!\n",
    "# for i in range(10):\n",
    "#     x = i/10\n",
    "#     print('For x = ',x)\n",
    "#     rho = (1/4)*np.array([[1+x,0,0,2*x],[0,1-x,0,0],[0,0,1-x,0],[2*x,0,0,1+x]])\n",
    "#     w,v,ppt = Ent_cert(rho)\n",
    "# x = 1/3+10**(-17)\n",
    "# rho = (1/4)*np.array([[1+x,0,0,2*x],[0,1-x,0,0],[0,0,1-x,0],[2*x,0,0,1+x]])\n",
    "# w,v,ppt = Ent_cert(rho)"
   ]
  },
  {
   "cell_type": "code",
   "execution_count": 16,
   "metadata": {},
   "outputs": [
    {
     "name": "stdout",
     "output_type": "stream",
     "text": [
      "[92595  7405]\n",
      "37.31859493255615\n"
     ]
    }
   ],
   "source": [
    "# Creating states and certifing entanglement\n",
    "\n",
    "ent_sep = np.array([0,0])\n",
    "st = time.time()\n",
    "for i in range(100000):\n",
    "    # print('For i = ',i)\n",
    "    rho = rho_mixed(4)\n",
    "    # # Show the created density matrix\n",
    "    # print(rho)\n",
    "    # # Show that it is normalized and hermitian\n",
    "    # print(np.round(rho-rho.conjugate().T,15))\n",
    "    # print(np.round(rho.trace(),15))\n",
    "    # Show if it is entangled or not\n",
    "    w,v,ppt = Ent_cert(rho)\n",
    "    if ppt == 1:\n",
    "        ent_sep[0] +=1\n",
    "    else:\n",
    "        ent_sep[1] +=1\n",
    "et = time.time()\n",
    "print(ent_sep)\n",
    "print(et-st)\n",
    "\n",
    "    "
   ]
  },
  {
   "cell_type": "code",
   "execution_count": 17,
   "metadata": {},
   "outputs": [
    {
     "name": "stdout",
     "output_type": "stream",
     "text": [
      "[75799 24201]\n",
      "11.24958848953247\n"
     ]
    }
   ],
   "source": [
    "# Creating states and certifing entanglement\n",
    "\n",
    "ent_sep = np.array([0,0])\n",
    "st = time.time()\n",
    "for i in range(100000):\n",
    "    # print('For i = ',i)\n",
    "    rho = rho_mixed_HS(4)\n",
    "    # # Show the created density matrix\n",
    "    # print(rho)\n",
    "    # # Show that it is normalized and hermitian\n",
    "    # print(np.round(rho-rho.conjugate().T,15))\n",
    "    # print(np.round(rho.trace(),15))\n",
    "    # Show if it is entangled or not\n",
    "    w,v,ppt = Ent_cert(rho)\n",
    "    if ppt == 1:\n",
    "        ent_sep[0] +=1\n",
    "    else:\n",
    "        ent_sep[1] +=1\n",
    "et = time.time()\n",
    "print(ent_sep)\n",
    "print(et-st)"
   ]
  }
 ],
 "metadata": {
  "kernelspec": {
   "display_name": "Python 3.10.6 64-bit",
   "language": "python",
   "name": "python3"
  },
  "language_info": {
   "codemirror_mode": {
    "name": "ipython",
    "version": 3
   },
   "file_extension": ".py",
   "mimetype": "text/x-python",
   "name": "python",
   "nbconvert_exporter": "python",
   "pygments_lexer": "ipython3",
   "version": "3.9.13"
  },
  "orig_nbformat": 4,
  "vscode": {
   "interpreter": {
    "hash": "916dbcbb3f70747c44a77c7bcd40155683ae19c65e1c03b4aa3499c5328201f1"
   }
  }
 },
 "nbformat": 4,
 "nbformat_minor": 2
}
