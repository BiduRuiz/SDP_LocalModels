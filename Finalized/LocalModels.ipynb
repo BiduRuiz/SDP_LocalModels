{
 "cells": [
  {
   "cell_type": "markdown",
   "metadata": {},
   "source": [
    "# Documentation of local entangled states certification code by convex optimization\n",
    "\n",
    "**Disclaimer:** Everything done in this code is based on a two-qubit bipartite system.\n",
    "\n",
    "## Topics:\n",
    "- States\n",
    "- Measurements\n",
    "- Deterministic strategies\n",
    "- SDP\n",
    "- Results"
   ]
  },
  {
   "cell_type": "markdown",
   "metadata": {},
   "source": [
    "### Importing the necessary libraries"
   ]
  },
  {
   "cell_type": "code",
   "execution_count": 20,
   "metadata": {},
   "outputs": [],
   "source": [
    "#Construction:\n",
    "import picos as pic\n",
    "import numpy as np\n",
    "import math\n",
    "from scipy.spatial import ConvexHull\n",
    "import time\n",
    "#Plotting:\n",
    "from mpl_toolkits.mplot3d.art3d import Poly3DCollection\n",
    "from mpl_toolkits.mplot3d import Axes3D\n",
    "from matplotlib import pyplot as plt"
   ]
  },
  {
   "cell_type": "markdown",
   "metadata": {},
   "source": [
    "### Creating States\n",
    "Here we will be interested in building the states that we want to certify locality. The **states()** function takes no input and returns the target state and the separable state from the output.\n"
   ]
  },
  {
   "cell_type": "code",
   "execution_count": 21,
   "metadata": {},
   "outputs": [],
   "source": [
    "#Creating the states() function\n",
    "def states():\n",
    "    #Create the base kets |00>, |01>, |10> and |11>\n",
    "    ket_00 = np.array([[1],[0],[0],[0]])\n",
    "    ket_01 = np.array([[0],[1],[0],[0]])\n",
    "    ket_10 = np.array([[0],[0],[1],[0]])\n",
    "    ket_11 = np.array([[0],[0],[0],[1]])\n",
    "    #Create |psi> = (|01>-|10>)/sqrt(2) and rho = |psi><psi|\n",
    "    psi = (ket_01-ket_10)/math.sqrt(2)\n",
    "    rho = psi@np.transpose(psi)\n",
    "    #Create rho_sep = I/4 and rho_00 = |00><00|\n",
    "    rho_sep = (np.eye(4))/4\n",
    "    rho_00  = ket_00@np.transpose(ket_00)\n",
    "    #Return the states created\n",
    "    return rho, rho_sep , rho_00"
   ]
  },
  {
   "cell_type": "code",
   "execution_count": 22,
   "metadata": {},
   "outputs": [
    {
     "name": "stdout",
     "output_type": "stream",
     "text": [
      "rho: [[ 0.   0.   0.   0. ]\n",
      " [ 0.   0.5 -0.5  0. ]\n",
      " [ 0.  -0.5  0.5  0. ]\n",
      " [ 0.   0.   0.   0. ]]\n",
      "rho_sep: [[0.25 0.   0.   0.  ]\n",
      " [0.   0.25 0.   0.  ]\n",
      " [0.   0.   0.25 0.  ]\n",
      " [0.   0.   0.   0.25]]\n",
      "rho_00: [[1 0 0 0]\n",
      " [0 0 0 0]\n",
      " [0 0 0 0]\n",
      " [0 0 0 0]]\n"
     ]
    }
   ],
   "source": [
    "#Calling the states() function\n",
    "rho, rho_sep, rho_00 = states()\n",
    "#Printing the states created\n",
    "print('rho:',rho)\n",
    "print('rho_sep:',rho_sep)\n",
    "print('rho_00:',rho_00)"
   ]
  },
  {
   "cell_type": "markdown",
   "metadata": {},
   "source": [
    "### Creation of measurements\n",
    "Here we will be interested in building the measurements. The **measurements(n)** function receives an input referring to the cycle we are interested in, if $n = 1$ we will be building a polytope of 6 vertices, that is, we will be creating 3 dichotomous measurements. In the case $n = 2$ we will keep the vertices from the previous cycle and add 12 vertices, so we will have 9 dichotomous measurements. In the case $n = 3$ we will keep the vertices of the previous cycles and we will have built 13 dichotomous measurements. In the case $n = 4$ we will keep the vertices of the previous cycles and we will have built 21 dichotomous measurements. The function will return 2 outputs, the first will be an array of $2\\times2$ matrices that define the projective measurements and the second will be the inscribed radius of the constructed polytope.\n"
   ]
  },
  {
   "cell_type": "code",
   "execution_count": 23,
   "metadata": {},
   "outputs": [],
   "source": [
    "#Creating the measurements(n) function\n",
    "def measurements(n,PLOT=False):\n",
    "    #INPUT: n is the cicle we are in, may have the values: [1,2,3,4]; PLOT:False/True to plot or not the polyhedron\n",
    "\n",
    "    #Create the vertices of the polytope\n",
    "    vert_p = np.array([[1,0,0],[-1,0,0],[0,1,0],[0,-1,0],[0,0,1],[0,0,-1]])\n",
    "\n",
    "    vert_s = np.array([[0,1/(np.sqrt(2)),1/(np.sqrt(2))],[0,-1/(np.sqrt(2)),-1/(np.sqrt(2))],\n",
    "    [0,-1/(np.sqrt(2)),1/(np.sqrt(2))],[0,1/(np.sqrt(2)),-1/(np.sqrt(2))],\n",
    "    [1/(np.sqrt(2)),0,1/(np.sqrt(2))],[-1/(np.sqrt(2)),0,-1/(np.sqrt(2))],\n",
    "    [-1/(np.sqrt(2)),0,1/(np.sqrt(2))],[1/(np.sqrt(2)),0,-1/(np.sqrt(2))],\n",
    "    [1/(np.sqrt(2)),1/(np.sqrt(2)),0],[-1/(np.sqrt(2)),-1/(np.sqrt(2)),0],\n",
    "    [-1/(np.sqrt(2)),1/(np.sqrt(2)),0],[1/(np.sqrt(2)),-1/(np.sqrt(2)),0]\n",
    "    ])\n",
    "\n",
    "    vert_s = np.concatenate((vert_p,vert_s))\n",
    "\n",
    "    vert_t = np.array([[1/2,1/2,1/(np.sqrt(2))],[-1/2,-1/2,-1/(np.sqrt(2))],\n",
    "    [-1/2,1/2,1/(np.sqrt(2))],[1/2,-1/2,-1/(np.sqrt(2))],\n",
    "    [1/2,1/2,-1/(np.sqrt(2))],[-1/2,-1/2,1/(np.sqrt(2))],\n",
    "    [1/2,-1/2,1/(np.sqrt(2))],[-1/2,1/2,-1/(np.sqrt(2))]\n",
    "    ])\n",
    "\n",
    "    vert_t = np.concatenate((vert_s,vert_t))\n",
    "\n",
    "    vert_q = np.array([[1/2,(np.sqrt(3))/2,0],[-1/2,-(np.sqrt(3))/2,0],\n",
    "    [(np.sqrt(3))/2,1/2,0],[-(np.sqrt(3))/2,-1/2,0],\n",
    "    [0,(np.sqrt(3))/2,1/2],[0,-(np.sqrt(3))/2,-1/2],\n",
    "    [(np.sqrt(3))/2,0,1/2],[-(np.sqrt(3))/2,0,-1/2],\n",
    "    [-1/2,(np.sqrt(3))/2,0],[1/2,-(np.sqrt(3))/2,0],\n",
    "    [-(np.sqrt(3))/2,1/2,0],[(np.sqrt(3))/2,-1/2,0],\n",
    "    [0,-(np.sqrt(3))/2,1/2],[0,(np.sqrt(3))/2,-1/2],\n",
    "    [(np.sqrt(3))/2,0,-1/2],[-(np.sqrt(3))/2,0,1/2]\n",
    "    ])\n",
    "\n",
    "    vert_q = np.concatenate((vert_t,vert_q))\n",
    "\n",
    "    #Choose which set of vertices we want to use depending on the cycle we are in\n",
    "    if n == 1:\n",
    "        vert = vert_p\n",
    "    elif n == 2:\n",
    "        vert = vert_s\n",
    "    elif n == 3:\n",
    "        vert = vert_t\n",
    "    elif n == 4:\n",
    "        vert = vert_q\n",
    "\n",
    "    #Create the measurements of each vertex\n",
    "    m_k = vert.shape[0]\n",
    "    medicoes = np.zeros([m_k,2,2], dtype=complex)\n",
    "\n",
    "    for i in range(m_k):\n",
    "        med_00 = (1+vert[i][2])/2\n",
    "        med_01 = (vert[i][0]-vert[i][1]*1j)/2\n",
    "        med_10 = (vert[i][0]+vert[i][1]*1j)/2\n",
    "        med_11 = (1-vert[i][2])/2\n",
    "    \n",
    "        medicoes[i] = [[med_00,med_01],[med_10,med_11]]\n",
    "\n",
    "    #Verify that the sum of each dichotomous measurement is the identity\n",
    "    for i in range(int(m_k/2)):\n",
    "        print(\"Sum\")\n",
    "        print(medicoes[2*i]+medicoes[2*i+1])\n",
    "    \n",
    "    #Construct the polyhedron\n",
    "    hull = ConvexHull(vert)\n",
    "    #Find the Insphere radius\n",
    "    r = np.min(np.abs(hull.equations[:, -1]))\n",
    "\n",
    "    #Plot\n",
    "    if PLOT == True:\n",
    "        polys = Poly3DCollection([hull.points[simplex] for simplex in hull.simplices])\n",
    "\n",
    "        polys.set_edgecolor('deeppink')\n",
    "        polys.set_linewidth(.8)\n",
    "        polys.set_facecolor('hotpink')\n",
    "        polys.set_alpha(.25)\n",
    "        \n",
    "        #Build the insphere\n",
    "        u, v = np.mgrid[0:2*np.pi:50j, 0:np.pi:50j]\n",
    "        x = r*np.cos(u)*np.sin(v)\n",
    "        y = r*np.sin(u)*np.sin(v)\n",
    "        z = r*np.cos(v)\n",
    "        \n",
    "        #Build the Bloch sphere\n",
    "        x_uni = np.cos(u)*np.sin(v)\n",
    "        y_uni = np.sin(u)*np.sin(v)\n",
    "        z_uni = np.cos(v)\n",
    "        \n",
    "        ax = Axes3D(plt.figure())\n",
    "        \n",
    "        #Plot insphere\n",
    "        ax.plot_surface(x,y,z,color='lime',alpha=.35)\n",
    "        #Plot Bloch sphere\n",
    "        ax.plot_surface(x_uni,y_uni,z_uni,color='lightgray',alpha=.15)\n",
    "        #Plot polyhedron\n",
    "        ax.set_xlim3d(-1,1)\n",
    "        ax.set_ylim3d(-1,1)\n",
    "        ax.set_zlim3d(-1,1)\n",
    "        ax.set_box_aspect([1,1,1])\n",
    "        #plt.axis('off')\n",
    "\n",
    "        ax.add_collection3d(polys)\n",
    "        #plt.show()\n",
    "        plt.savefig('poliedro_'+str(m_k)+'.png')\n",
    "    \n",
    "    #Return the measurements and the insphere radius\n",
    "    return medicoes,r"
   ]
  },
  {
   "cell_type": "code",
   "execution_count": 24,
   "metadata": {},
   "outputs": [
    {
     "name": "stdout",
     "output_type": "stream",
     "text": [
      "Sum\n",
      "[[1.+0.j 0.+0.j]\n",
      " [0.+0.j 1.+0.j]]\n",
      "Sum\n",
      "[[1.+0.j 0.+0.j]\n",
      " [0.+0.j 1.+0.j]]\n",
      "Sum\n",
      "[[1.+0.j 0.+0.j]\n",
      " [0.+0.j 1.+0.j]]\n",
      "Sum\n",
      "[[1.+0.j 0.+0.j]\n",
      " [0.+0.j 1.+0.j]]\n",
      "Sum\n",
      "[[1.+0.j 0.+0.j]\n",
      " [0.+0.j 1.+0.j]]\n",
      "Sum\n",
      "[[1.+0.j 0.+0.j]\n",
      " [0.+0.j 1.+0.j]]\n"
     ]
    },
    {
     "name": "stderr",
     "output_type": "stream",
     "text": [
      "/tmp/ipykernel_8705/1953836575.py:90: MatplotlibDeprecationWarning: Axes3D(fig) adding itself to the figure is deprecated since 3.4. Pass the keyword argument auto_add_to_figure=False and use fig.add_axes(ax) to suppress this warning. The default value of auto_add_to_figure will change to False in mpl3.5 and True values will no longer work in 3.6.  This is consistent with other Axes classes.\n",
      "  ax = Axes3D(plt.figure())\n"
     ]
    },
    {
     "name": "stdout",
     "output_type": "stream",
     "text": [
      "Measurements: [[[ 0.5+0.j   0.5+0.j ]\n",
      "  [ 0.5+0.j   0.5+0.j ]]\n",
      "\n",
      " [[ 0.5+0.j  -0.5+0.j ]\n",
      "  [-0.5+0.j   0.5+0.j ]]\n",
      "\n",
      " [[ 0.5+0.j   0. -0.5j]\n",
      "  [ 0. +0.5j  0.5+0.j ]]\n",
      "\n",
      " [[ 0.5+0.j   0. +0.5j]\n",
      "  [ 0. -0.5j  0.5+0.j ]]\n",
      "\n",
      " [[ 1. +0.j   0. +0.j ]\n",
      "  [ 0. +0.j   0. +0.j ]]\n",
      "\n",
      " [[ 0. +0.j   0. +0.j ]\n",
      "  [ 0. +0.j   1. +0.j ]]]\n",
      "r: 0.5773502691896258\n"
     ]
    },
    {
     "data": {
      "image/png": "[encoded data removed]",
      "text/plain": [
       "<Figure size 432x288 with 1 Axes>"
      ]
     },
     "metadata": {
      "needs_background": "light"
     },
     "output_type": "display_data"
    }
   ],
   "source": [
    "#Calling the measurements(n,PLOT=False) function\n",
    "medicoes, r = measurements(1)\n",
    "#Calling the measurements(n,PLOT=True) function\n",
    "medicoes, r = measurements(1,PLOT=True)\n",
    "#Printing the measurements created and the insphere radius\n",
    "print(\"Measurements:\",medicoes)\n",
    "print(\"r:\",r)"
   ]
  },
  {
   "cell_type": "markdown",
   "metadata": {},
   "source": [
    "### Creation of Deterministic Strategies\n",
    "Here we will be interested in building the deterministic strategies. Since they are deterministic, given a result $a$ of a measurement $\\hat{v}_x$, the associated probability will be either 0 or 1. It is possible to determine all the $k^m$ ($k$ being the number of results per measurement and $m$ the number of measurements) possible deterministic strategies in the format\n",
    "$D_\\lambda = (D_\\lambda(a_1|\\hat{v}_1),D_\\lambda(a_2|\\hat{v}_1),\\cdots\\!,D_\\lambda(a_k|\\hat{v }_1),\\cdots\\!,D_\\lambda(b_k|\\hat{v}_m)),$\n",
    "with $\\sum_{i=1}^k D_\\lambda(a_i,\\hat{v}_j) = 1$ for all $1\\leq j\\leq m$."
   ]
  },
  {
   "cell_type": "code",
   "execution_count": 25,
   "metadata": {},
   "outputs": [],
   "source": [
    "#Creating the strategies_LHS(m,k) function\n",
    "def strategies_LHS(m,k):\n",
    "    #INPUT: m = number of measurements; k = number of results\n",
    "    #k**m = number of strategies = n_lambdas\n",
    "\n",
    "    n_lambdas = k**m\n",
    "    \n",
    "    #Creating the strategies\n",
    "    all_est = [np.base_repr(el+n_lambdas,base=k)[-m:] for el in range(n_lambdas)]\n",
    "    \n",
    "    all_est = np.array([[int(digit) for digit in el] for el in all_est])\n",
    "\n",
    "    detp = np.zeros((n_lambdas,k*m))\n",
    "\n",
    "    for i in range(n_lambdas):\n",
    "        for j in range(m):\n",
    "            aux = np.zeros(k)\n",
    "            aux[all_est[i][j]] = 1\n",
    "            detp[i][j*k:j*k+k] = np.array(aux)    \n",
    "            \n",
    "    #Return the deterministic strategies\n",
    "    return detp"
   ]
  },
  {
   "cell_type": "code",
   "execution_count": 26,
   "metadata": {},
   "outputs": [
    {
     "name": "stdout",
     "output_type": "stream",
     "text": [
      "Deterministic strategies: [[1. 0. 1. 0. 1. 0.]\n",
      " [1. 0. 1. 0. 0. 1.]\n",
      " [1. 0. 0. 1. 1. 0.]\n",
      " [1. 0. 0. 1. 0. 1.]\n",
      " [0. 1. 1. 0. 1. 0.]\n",
      " [0. 1. 1. 0. 0. 1.]\n",
      " [0. 1. 0. 1. 1. 0.]\n",
      " [0. 1. 0. 1. 0. 1.]]\n"
     ]
    }
   ],
   "source": [
    "#Calling the strategies_LHS(m,k) function\n",
    "detp = strategies_LHS(3,2)\n",
    "#Printing the deterministic strategies created\n",
    "print(\"Deterministic strategies:\",detp)"
   ]
  },
  {
   "cell_type": "markdown",
   "metadata": {},
   "source": [
    "### Creating the SDP\n",
    "\n",
    "Starting with the following theorem:\n",
    "\n",
    "**Theorem:**\n",
    "\n",
    "Let $\\mathcal{M}$ be a finite collection of projective measurements on $\\mathbb{C}^{d_A}$. A state $\\rho_{AB}$ acting on $\\mathbb{C}^{d_A}\\otimes\\mathbb{C}^{d_B}$ admits an LHS model for all projective measurements if there is a unit trace operator $ O_{AB}$ acting on the same Hilbert space, so that $O_{AB}$ admits an LHS model for measurements in $\\mathcal{M}$, and\n",
    "$$\\rho_{AB} = rO_{AB}+(1-r)\\frac{1}{d_A}\\mathbb{I}_A\\otimes O_B,$$\n",
    "where $r$ is the radius of the inner sphere, the largest centered sphere contained in the polytope generated by $\\mathcal{M}$.\n",
    "\n",
    "Here we will be interested in states of the form\n",
    "$$\\rho_{AB} = \\rho_q = q\\rho+(1-q)\\rho_{\\text{sep}},$$\n",
    "with $0\\leq q\\leq 1$, and where the state $\\rho$ may be called the *target state* and $\\rho_{\\text{sep}}$ is a separable state (hence unsteerable).\n",
    "\n",
    "Thus, according to the Theorem, the following SDP tests an LHS model for projective measurements in the $\\rho_{AB}$ state:\n",
    "\\begin{align*}\n",
    "\\text{maximise}&\\quad q\\\\\n",
    "s.t.&\\quad \\text{tr}_A[(\\Pi_{a|\\hat{v}_x}\\otimes\\mathbb{I}_B)O_{AB}] = \\sum_\\lambda D_\\lambda(a|x)\\rho_\\lambda,\\quad\\forall a,x\\\\\n",
    "&\\quad\\rho_\\lambda\\geq0,\\quad\\forall\\lambda\\\\\n",
    "&\\quad rO_{AB}+(1-r)\\xi\\otimes O_B = \\rho_q.\n",
    "\\end{align*}\n",
    "where $\\xi = \\text{tr}_B(\\rho_{\\text{sep}})$."
   ]
  },
  {
   "cell_type": "code",
   "execution_count": 27,
   "metadata": {},
   "outputs": [],
   "source": [
    "#Creating the SDP_LHS(m,k,rho,rho_sep,eta,detp,medicoes) function\n",
    "def SDP_LHS(m,k,rho,rho_sep,eta,detp,medicoes):\n",
    "\n",
    "    #Creating the problem\n",
    "    P = pic.Problem()\n",
    "\n",
    "    #Creating the optimization variables\n",
    "    q = pic.RealVariable('q')\n",
    "\n",
    "    chi = pic.HermitianVariable('chi',(4,4))\n",
    "\n",
    "    sigma = [pic.HermitianVariable('Sigma_lambda[{}]'.format(i),(2,2)) for i in range(k**m)]\n",
    "\n",
    "    rho_q = rho*q+(1-q)*rho_sep\n",
    "\n",
    "    rho_eta = eta*chi+(1-eta)*(pic.partial_trace(rho_sep,subsystems=1,dimensions=(2,2)))@(pic.partial_trace(chi,subsystems=0,dimensions=(2,2)))\n",
    "\n",
    "    est_det = [pic.sum([sigma[j]*detp[j,i] for j in range(k**m)]) for i in range(k*m)]\n",
    "\n",
    "    est = [(np.kron(medicoes[i],np.eye(2)))*chi for i in range(k*m)]\n",
    "\n",
    "    #Creating the constraints\n",
    "    P.add_constraint(q<=1)\n",
    "\n",
    "    P.add_constraint(q>=0)\n",
    "\n",
    "    P.add_list_of_constraints([sigma[i]>>0 for i in range(k**m)]) \n",
    "\n",
    "    P.add_constraint(rho_q == rho_eta)\n",
    "\n",
    "    P.add_list_of_constraints([pic.partial_trace(est[i],subsystems=0,dimensions=(2,2))==est_det[i] for i in range(k*m)])\n",
    "\n",
    "    #Setting the objective\n",
    "    P.set_objective('max',q)\n",
    "\n",
    "    #Finding the solution\n",
    "    solution = P.solve()\n",
    "\n",
    "    #Return the problem created, the solution found, the value of q\n",
    "    return P, solution, q\n"
   ]
  },
  {
   "cell_type": "markdown",
   "metadata": {},
   "source": [
    "### Finding the results"
   ]
  },
  {
   "cell_type": "code",
   "execution_count": 28,
   "metadata": {},
   "outputs": [
    {
     "name": "stdout",
     "output_type": "stream",
     "text": [
      "Starting cycle  1 .\n",
      "Sum\n",
      "[[1.+0.j 0.+0.j]\n",
      " [0.+0.j 1.+0.j]]\n",
      "Sum\n",
      "[[1.+0.j 0.+0.j]\n",
      " [0.+0.j 1.+0.j]]\n",
      "Sum\n",
      "[[1.+0.j 0.+0.j]\n",
      " [0.+0.j 1.+0.j]]\n",
      "Number of vertices:\n",
      "6\n",
      "Insphere radius:\n",
      "0.5773502691896258\n",
      "Problem\n",
      "Complex Semidefinite Program\n",
      "  maximize q\n",
      "  over\n",
      "    2×2 hermitian variable Sigma_lambda[i] ∀ i ∈ [0…7]\n",
      "    4×4 hermitian variable chi\n",
      "    1×1 real variable q\n",
      "  subject to\n",
      "    q ≤ 1\n",
      "    q ≥ 0\n",
      "    Sigma_lambda[i] ≽ 0 ∀ i ∈ [0…7]\n",
      "    0.57735·chi +\n",
      "      0.42265·[4×4].{[2×2]⊗tr([2×2])}⊗chi.{tr([2×2])⊗[2×2]} = [4×4]·q\n",
      "      + (1 - q)·[4×4]\n",
      "    [6 constraints (1st: ([4×4]·chi).{tr([2×2])⊗[2×2]} =\n",
      "      ∑(Sigma_lambda[0], …, 0))]\n",
      "Solution\n",
      "primal feasible solution pair (claimed optimal) from mosek\n",
      "Value of q:  0.22919040159297893\n",
      "Cycle  1  finished.\n"
     ]
    }
   ],
   "source": [
    "#Calling the functions \n",
    "#Creating the states\n",
    "rho,rho_sep, rho_00 = states()\n",
    "\n",
    "for i in range(1):\n",
    "    print('Starting cycle ',i+1,'.')\n",
    "\n",
    "    #Creating the measurements\n",
    "    medicoes,r = measurements(i+1)\n",
    "    m_k = medicoes.shape\n",
    "    print('Number of vertices:')\n",
    "    print(m_k[0])\n",
    "    print('Insphere radius:')\n",
    "    print(r)\n",
    "\n",
    "    k = 2\n",
    "    m = int(m_k[0]/k)\n",
    "\n",
    "    #Creating the deterministic strategies\n",
    "    detp = strategies_LHS(m,k)\n",
    "\n",
    "    #Calling the SDP_LHS(m,k,rho,rho_00,r,detp,medicoes) function\n",
    "    P,solution,q = SDP_LHS(m,k,rho,rho_00,r,detp,medicoes)\n",
    "\n",
    "    #Printing the results\n",
    "    print(\"Problem\")\n",
    "    print(P)\n",
    "    print(\"Solution\")\n",
    "    print(solution)\n",
    "    print('Value of q: ',q)\n",
    "    print('Cycle ',i+1,' finished.')"
   ]
  }
 ],
 "metadata": {
  "kernelspec": {
   "display_name": "Python 3.10.4 64-bit",
   "language": "python",
   "name": "python3"
  },
  "language_info": {
   "name": "python",
   "version": "3.10.6"
  },
  "orig_nbformat": 4,
  "vscode": {
   "interpreter": {
    "hash": "916dbcbb3f70747c44a77c7bcd40155683ae19c65e1c03b4aa3499c5328201f1"
   }
  }
 },
 "nbformat": 4,
 "nbformat_minor": 2
}
