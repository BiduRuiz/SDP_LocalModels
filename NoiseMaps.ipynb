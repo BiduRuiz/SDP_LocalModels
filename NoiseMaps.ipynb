{
 "cells": [
  {
   "cell_type": "markdown",
   "metadata": {},
   "source": [
    "# Documentation for general noise maps creation\n",
    "\n",
    "**Disclaimer:** This is not working yet."
   ]
  },
  {
   "cell_type": "markdown",
   "metadata": {},
   "source": [
    "To create our polytope we can use what we are already using. The insphere that is going to change. "
   ]
  },
  {
   "cell_type": "markdown",
   "metadata": {},
   "source": [
    "### Importing the necessary libraries"
   ]
  },
  {
   "cell_type": "code",
   "execution_count": 3,
   "metadata": {},
   "outputs": [],
   "source": [
    "#Construction:\n",
    "import picos as pic\n",
    "import numpy as np\n",
    "import math\n",
    "from scipy.spatial import ConvexHull"
   ]
  },
  {
   "cell_type": "markdown",
   "metadata": {},
   "source": [
    "### Creating the noiseless polytope\n",
    "\n",
    "Here we will give the vertices of our polyhedron and ask for the ConvexHull function to find the COnvex Hull associated to this."
   ]
  },
  {
   "cell_type": "code",
   "execution_count": 100,
   "metadata": {},
   "outputs": [
    {
     "name": "stdout",
     "output_type": "stream",
     "text": [
      "[[-0.57735027 -0.57735027 -0.57735027 -0.57735027]\n",
      " [ 0.57735027 -0.57735027 -0.57735027 -0.57735027]\n",
      " [-0.57735027 -0.57735027  0.57735027 -0.57735027]\n",
      " [ 0.57735027 -0.57735027  0.57735027 -0.57735027]\n",
      " [ 0.57735027  0.57735027 -0.57735027 -0.57735027]\n",
      " [-0.57735027  0.57735027 -0.57735027 -0.57735027]\n",
      " [ 0.57735027  0.57735027  0.57735027 -0.57735027]\n",
      " [-0.57735027  0.57735027  0.57735027 -0.57735027]]\n"
     ]
    }
   ],
   "source": [
    "# Creating the smallest test polyhedron: Octahedron\n",
    "vert = np.array([[1,0,0],[-1,0,0],[0,1,0],[0,-1,0],[0,0,1],[0,0,-1]])\n",
    "#print(vert)\n",
    "# Construct the polyhedron\n",
    "hull = ConvexHull(vert)\n",
    "facets = hull.equations\n",
    "print(facets)\n",
    "#print(facets.shape[0])"
   ]
  },
  {
   "cell_type": "markdown",
   "metadata": {},
   "source": [
    "### Creating the noise map\n",
    "Given the noise map\n",
    "$$\\Phi^\\eta (A_a) = \\eta A_a+(1-\\eta)\\text{Tr}(\\xi A_a)\\mathbb{1}\\equiv A_a^\\eta$$\n",
    "it is necessary to choose the density matrix $\\xi$, which defines the map. In [Hirsch2016](https://arxiv.org/abs/1512.00262) they have observed that the best choice of $\\xi$ depends on the input state and conjecture that the optimal choice of $\\xi$ is setting $\\xi = \\text{tr}_B(\\rho_{\\text{sep}})$. When considering a general noise map $\\Phi^\\eta$, $\\xi$ will be an arbitrary qubit state $\\xi = (\\mathbb{1}+\\vec{u}\\cdot\\vec{\\sigma})/2$ ."
   ]
  },
  {
   "cell_type": "code",
   "execution_count": 51,
   "metadata": {},
   "outputs": [
    {
     "name": "stdout",
     "output_type": "stream",
     "text": [
      "[[0.5 0. ]\n",
      " [0.  0.5]]\n"
     ]
    }
   ],
   "source": [
    "u = np.array([0,0,0])\n",
    "\n",
    "# Horodecki = (0,0,1)\n",
    "\n",
    "xi = np.array([[1+u[2],u[0]-u[1]],[u[0]+u[1],1-u[2]]])/2\n",
    "\n",
    "print(xi)"
   ]
  },
  {
   "cell_type": "markdown",
   "metadata": {},
   "source": [
    "### Finding the shrinking factor\n",
    "\n",
    "We want \n",
    "$$\\eta^{*}\\left(\\left\\lbrace A_{a|x}\\right\\rbrace,\\xi_{A}\\right) = \\underset{j}{\\text{min}} ~\\eta^{*}_{j}\\left(\\vec{F}_{j},b_{j},\\xi_{A}\\right), \\qquad j = 1,\\ldots,N_{F}.$$\n",
    "\n",
    "We will obtain a quadratic expression for $\\eta(\\vec{F},b,\\xi_{A})$, namely,\n",
    "$$A\\eta^{2} + B\\eta + C = 0,$$\n",
    "with\n",
    "$$A = \\sum_{k=1}^{3}\\left(F_{k} {-} F_{0} u_{k}\\right)^{2}$$\n",
    "$$B = 4F_{0}\\sum_{k=1}^{3}u_{k}\\left(F_{k} {-} F_{0}u_{k}\\right)$$\n",
    "$$C = 4b\\left(F_{0} {-} b\\right),$$\n",
    "$\\eta^{*}$ being the largest of the two solutions to this equation and $N_F$ being the number of facets."
   ]
  },
  {
   "cell_type": "code",
   "execution_count": 99,
   "metadata": {},
   "outputs": [
    {
     "name": "stdout",
     "output_type": "stream",
     "text": [
      "0.2886751345948129\n",
      "1.0000000000000002 -0.0 -0.9106836025229592\n",
      "0.9542974392310606 -0.9542974392310606\n",
      "1.0000000000000002 0.0 -0.9106836025229592\n",
      "0.9542974392310606 -0.9542974392310606\n",
      "1.0000000000000002 0.0 -0.9106836025229592\n",
      "0.9542974392310606 -0.9542974392310606\n",
      "1.0000000000000002 0.0 -0.9106836025229592\n",
      "0.9542974392310606 -0.9542974392310606\n",
      "1.0000000000000002 0.0 -0.9106836025229592\n",
      "0.9542974392310606 -0.9542974392310606\n",
      "1.0000000000000002 0.0 -0.9106836025229592\n",
      "0.9542974392310606 -0.9542974392310606\n",
      "1.0000000000000002 0.0 -0.9106836025229592\n",
      "0.9542974392310606 -0.9542974392310606\n",
      "1.0000000000000002 0.0 -0.9106836025229592\n",
      "0.9542974392310606 -0.9542974392310606\n"
     ]
    }
   ],
   "source": [
    "# Here we will calculate A, B and C\n",
    "\n",
    "# We hope to find this radius for de despolarizing map\n",
    "r = np.min(np.abs(facets[:, -1]))\n",
    "print(r)\n",
    "\n",
    "for j in range(facets.shape[0]):\n",
    "\n",
    "    #print(facets[j,:])\n",
    "\n",
    "    F_0 = facets[j,0]\n",
    "    F_1 = facets[j,1]\n",
    "    F_2 = facets[j,2]\n",
    "    F_3 = facets[j,3]\n",
    "    b = facets[j,4]\n",
    "\n",
    "    #F_0 = 1/2\n",
    "    #F_1 = facets[j,0]\n",
    "    #F_2 = facets[j,1]\n",
    "    #F_3 = facets[j,2]\n",
    "    #b = facets[j,3]\n",
    "\n",
    "    A = (F_1-F_0*u[0])**2+(F_2-F_0*u[1])**2+(F_3-F_0*u[2])**2\n",
    "    B = 4*F_0*(u[0]*(F_1-F_0*u[0])+u[1]*(F_2-F_0*u[1])+u[2]*(F_3-F_0*u[2]))\n",
    "    C = 4*b*(F_0-b)\n",
    "\n",
    "    print(A,B,C)\n",
    "\n",
    "    eta_1 = (-B+np.sqrt(B**2-4*A*C))/2*A\n",
    "    eta_2 = (-B-np.sqrt(B**2-4*A*C))/2*A\n",
    "\n",
    "    print(eta_1,eta_2)"
   ]
  }
 ],
 "metadata": {
  "kernelspec": {
   "display_name": "Python 3.10.4 64-bit",
   "language": "python",
   "name": "python3"
  },
  "language_info": {
   "codemirror_mode": {
    "name": "ipython",
    "version": 3
   },
   "file_extension": ".py",
   "mimetype": "text/x-python",
   "name": "python",
   "nbconvert_exporter": "python",
   "pygments_lexer": "ipython3",
   "version": "3.10.4"
  },
  "orig_nbformat": 4,
  "vscode": {
   "interpreter": {
    "hash": "916dbcbb3f70747c44a77c7bcd40155683ae19c65e1c03b4aa3499c5328201f1"
   }
  }
 },
 "nbformat": 4,
 "nbformat_minor": 2
}
